{
 "cells": [
  {
   "cell_type": "markdown",
   "metadata": {},
   "source": [
    "Importing the modules "
   ]
  },
  {
   "cell_type": "code",
   "execution_count": 189,
   "metadata": {},
   "outputs": [],
   "source": [
    "import pandas as pd\n",
    "import numpy as np\n",
    "import matplotlib.pyplot as plt\n",
    "import seaborn as sns\n",
    "import os"
   ]
  },
  {
   "cell_type": "code",
   "execution_count": 190,
   "metadata": {},
   "outputs": [
    {
     "data": {
      "text/plain": [
       "'d:\\\\Repeat_ML analyses\\\\Notebooks\\\\Key_notebooks'"
      ]
     },
     "execution_count": 190,
     "metadata": {},
     "output_type": "execute_result"
    }
   ],
   "source": [
    "os.getcwd()"
   ]
  },
  {
   "cell_type": "markdown",
   "metadata": {},
   "source": [
    "Read in the epidemiologcal dataset, Data exploration of the epidemiological dataset"
   ]
  },
  {
   "cell_type": "code",
   "execution_count": 191,
   "metadata": {},
   "outputs": [
    {
     "name": "stdout",
     "output_type": "stream",
     "text": [
      "<class 'pandas.core.frame.DataFrame'>\n",
      "RangeIndex: 188 entries, 0 to 187\n",
      "Data columns (total 26 columns):\n",
      " #   Column            Non-Null Count  Dtype  \n",
      "---  ------            --------------  -----  \n",
      " 0   ACCESSION NUMBER  188 non-null    object \n",
      " 1   CD4 CELL COUNT    36 non-null     float64\n",
      " 2   HIV STATUS        156 non-null    object \n",
      " 3   AGE               157 non-null    float64\n",
      " 4   SEX               157 non-null    object \n",
      " 5   STM               170 non-null    object \n",
      " 6   INH               170 non-null    object \n",
      " 7   RIF               170 non-null    object \n",
      " 8   EMB               170 non-null    object \n",
      " 9   PZA               64 non-null     object \n",
      " 10  AMK               0 non-null      float64\n",
      " 11  KAN               33 non-null     object \n",
      " 12  LEV               0 non-null      float64\n",
      " 13  MOX               0 non-null      float64\n",
      " 14  LIN               0 non-null      float64\n",
      " 15  BED               0 non-null      float64\n",
      " 16  CAP               33 non-null     object \n",
      " 17  PAS               33 non-null     object \n",
      " 18  OFL               40 non-null     object \n",
      " 19  ETH               33 non-null     object \n",
      " 20  FLQ               0 non-null      float64\n",
      " 21  PID               164 non-null    object \n",
      " 22  SAMPLE TYPE       18 non-null     object \n",
      " 23  EVER ARV          12 non-null     object \n",
      " 24  CURRENT ARV       12 non-null     object \n",
      " 25  PREV TBRX         58 non-null     object \n",
      "dtypes: float64(8), object(18)\n",
      "memory usage: 38.3+ KB\n"
     ]
    }
   ],
   "source": [
    "Epi_data = pd.read_csv(\"../../ML_datasets/UG_ML_raw_data.csv\")\n",
    "Epi_data.info()"
   ]
  },
  {
   "cell_type": "markdown",
   "metadata": {},
   "source": [
    "Identify columns with greater than 60% missingness of information"
   ]
  },
  {
   "cell_type": "code",
   "execution_count": 192,
   "metadata": {},
   "outputs": [
    {
     "name": "stdout",
     "output_type": "stream",
     "text": [
      "Columns excluded with more than 60% missing values:\n",
      "Index(['CD4 CELL COUNT', 'PZA', 'AMK', 'KAN', 'LEV', 'MOX', 'LIN', 'BED',\n",
      "       'CAP', 'PAS', 'OFL', 'ETH', 'FLQ', 'SAMPLE TYPE', 'EVER ARV',\n",
      "       'CURRENT ARV', 'PREV TBRX'],\n",
      "      dtype='object')\n"
     ]
    }
   ],
   "source": [
    "threshold = 0.6  # Set the threshold for missing values\n",
    "\n",
    "# Calculate the percentage of missing values in each column\n",
    "missing_percent = Epi_data.isnull().mean()\n",
    "\n",
    "# Identify columns with missing values exceeding 80%\n",
    "columns_to_exclude = missing_percent[missing_percent > threshold].index\n",
    "print(\"Columns excluded with more than 60% missing values:\")\n",
    "print(columns_to_exclude)"
   ]
  },
  {
   "cell_type": "markdown",
   "metadata": {},
   "source": [
    "Exclude the columns with >60% missingness and this left us with only four drugs: Rifampicin, Isoniazid, Ethambutol and Streptomycin"
   ]
  },
  {
   "cell_type": "code",
   "execution_count": 193,
   "metadata": {},
   "outputs": [
    {
     "name": "stdout",
     "output_type": "stream",
     "text": [
      "Remaining columns:\n"
     ]
    },
    {
     "data": {
      "text/plain": [
       "Index(['ACCESSION NUMBER', 'HIV STATUS', 'AGE', 'SEX', 'STM', 'INH', 'RIF',\n",
       "       'EMB', 'PID'],\n",
       "      dtype='object')"
      ]
     },
     "execution_count": 193,
     "metadata": {},
     "output_type": "execute_result"
    }
   ],
   "source": [
    "Epi_data_clean = Epi_data.drop(columns=columns_to_exclude)\n",
    "# Print the remaining columns\n",
    "print(\"Remaining columns:\")\n",
    "Epi_data_clean.columns"
   ]
  },
  {
   "cell_type": "code",
   "execution_count": 194,
   "metadata": {},
   "outputs": [
    {
     "name": "stdout",
     "output_type": "stream",
     "text": [
      "<class 'pandas.core.frame.DataFrame'>\n",
      "RangeIndex: 188 entries, 0 to 187\n",
      "Data columns (total 9 columns):\n",
      " #   Column            Non-Null Count  Dtype  \n",
      "---  ------            --------------  -----  \n",
      " 0   ACCESSION NUMBER  188 non-null    object \n",
      " 1   HIV STATUS        156 non-null    object \n",
      " 2   AGE               157 non-null    float64\n",
      " 3   SEX               157 non-null    object \n",
      " 4   STM               170 non-null    object \n",
      " 5   INH               170 non-null    object \n",
      " 6   RIF               170 non-null    object \n",
      " 7   EMB               170 non-null    object \n",
      " 8   PID               164 non-null    object \n",
      "dtypes: float64(1), object(8)\n",
      "memory usage: 13.3+ KB\n"
     ]
    }
   ],
   "source": [
    "Epi_data_clean.info()"
   ]
  },
  {
   "cell_type": "markdown",
   "metadata": {},
   "source": [
    "Viewing the rows/Samples with missing information for the RIF Resistance phenotype"
   ]
  },
  {
   "cell_type": "code",
   "execution_count": 195,
   "metadata": {},
   "outputs": [
    {
     "name": "stdout",
     "output_type": "stream",
     "text": [
      "    ACCESSION NUMBER HIV STATUS   AGE  SEX  STM  INH  RIF  EMB         PID\n",
      "21         ERR040113          P  36.0    F  NaN  NaN  NaN  NaN         NaN\n",
      "24         ERR040116          P  36.0    F  NaN  NaN  NaN  NaN         NaN\n",
      "25         ERR040117          P  36.0    F  NaN  NaN  NaN  NaN         NaN\n",
      "143       SRR7535037        NaN   NaN  NaN  NaN  NaN  NaN  NaN         NaN\n",
      "149       SRR7535043        NaN   NaN  NaN  NaN  NaN  NaN  NaN         NaN\n",
      "151       SRR7535046        NaN   NaN  NaN  NaN  NaN  NaN  NaN  91545-1-03\n",
      "159       SRR7535058          P  32.0    M  NaN  NaN  NaN  NaN         NaN\n",
      "162       SRR7535061          P  48.0    F  NaN  NaN  NaN  NaN         NaN\n",
      "163       SRR7535062          P  32.0    M  NaN  NaN  NaN  NaN         NaN\n",
      "164       SRR7535063          P  30.0    F  NaN  NaN  NaN  NaN         NaN\n",
      "166       SRR7535065        NaN   NaN  NaN  NaN  NaN  NaN  NaN  91089-1-03\n",
      "169       SRR7535068        NaN   NaN  NaN  NaN  NaN  NaN  NaN         NaN\n",
      "170       SRR7535069        NaN   NaN  NaN  NaN  NaN  NaN  NaN         NaN\n",
      "175       SRR7535076        NaN   NaN  NaN  NaN  NaN  NaN  NaN      DS 682\n",
      "177       SRR7535083          P  28.0    M  NaN  NaN  NaN  NaN         NaN\n",
      "179       SRR7535085        NaN   NaN  NaN  NaN  NaN  NaN  NaN     ET14013\n",
      "182       SRR7535089          P  23.0    F  NaN  NaN  NaN  NaN         NaN\n",
      "185       SRR7535092          P  35.0    M  NaN  NaN  NaN  NaN         NaN\n"
     ]
    }
   ],
   "source": [
    "missing_age_rows = Epi_data_clean[Epi_data_clean['RIF'].isnull()]\n",
    "\n",
    "# Display the subset of rows with missing 'Age' information\n",
    "print(missing_age_rows)"
   ]
  },
  {
   "cell_type": "code",
   "execution_count": 196,
   "metadata": {},
   "outputs": [],
   "source": [
    "# Drop rows with missing values in specific columns (e.g., 'column1' and 'column2')\n",
    "#Epi_data_clean = Epi_data.dropna(subset=['RIF', 'STM', 'INH', 'EMB'])\n"
   ]
  },
  {
   "cell_type": "code",
   "execution_count": 197,
   "metadata": {},
   "outputs": [],
   "source": [
    "#RIF_data_clean = Epi_data.dropna(subset=['RIF'])"
   ]
  },
  {
   "cell_type": "markdown",
   "metadata": {},
   "source": [
    "1. Converting the HIV status, SEX, RIF, STM, EMB and STM to categorical. NB cant be converted to interger with the Nans\n",
    "\n",
    "2. Replacing the S:0 , R:1 and M:1 and F:0 in the drugs and sex columns"
   ]
  },
  {
   "cell_type": "code",
   "execution_count": 198,
   "metadata": {},
   "outputs": [
    {
     "data": {
      "text/plain": [
       "ACCESSION NUMBER     object\n",
       "HIV STATUS           object\n",
       "AGE                 float64\n",
       "SEX                  object\n",
       "STM                  object\n",
       "INH                  object\n",
       "RIF                  object\n",
       "EMB                  object\n",
       "PID                  object\n",
       "dtype: object"
      ]
     },
     "execution_count": 198,
     "metadata": {},
     "output_type": "execute_result"
    }
   ],
   "source": [
    "Epi_data_clean.dtypes"
   ]
  },
  {
   "cell_type": "code",
   "execution_count": 199,
   "metadata": {},
   "outputs": [],
   "source": [
    "Epi_data_clean['SEX'] = Epi_data_clean['SEX'].replace({'F': 0, 'M': 1})\n",
    "Epi_data_clean['HIV STATUS'] = Epi_data_clean['HIV STATUS'].replace({'NE': 0, 'P': 1})\n",
    "Epi_data_clean['SEX']= Epi_data_clean['SEX'].astype('category')\n",
    "Epi_data_clean['HIV STATUS']=Epi_data_clean['HIV STATUS'].astype('category')\n",
    "Epi_data_clean['RIF'] = Epi_data_clean['RIF'].replace({'S': 0, 'R': 1})\n",
    "Epi_data_clean['RIF']=Epi_data_clean['RIF'].astype('category')\n",
    "Epi_data_clean['INH'] = Epi_data_clean['INH'].replace({'S': 0, 'R': 1})\n",
    "Epi_data_clean['INH']=Epi_data_clean['INH'].astype('category')\n",
    "Epi_data_clean['EMB'] = Epi_data_clean['EMB'].replace({'S': 0, 'R': 1})\n",
    "Epi_data_clean['EMB']=Epi_data_clean['EMB'].astype('category')\n",
    "Epi_data_clean['STM'] = Epi_data_clean['STM'].replace({'S': 0, 'R': 1})\n",
    "Epi_data_clean['STM']=Epi_data_clean['STM'].astype('category')\n",
    "# Converted the Age column to integer \n",
    "#Epi_data_clean['AGE']=Epi_data_clean['AGE'].astype(int)"
   ]
  },
  {
   "cell_type": "markdown",
   "metadata": {},
   "source": [
    "Imputation of data to obtain a complete dataset for the numeric data like AGE using the strategy = mean and the categorical variables by the most frequent"
   ]
  },
  {
   "cell_type": "code",
   "execution_count": 200,
   "metadata": {},
   "outputs": [],
   "source": [
    "all_col = Epi_data_clean.columns\n",
    "cat_na = ['SEX', 'HIV STATUS','RIF', 'INH','STM','EMB']\n",
    "num_na = ['AGE']\n",
    "#data1 = df.copy()"
   ]
  },
  {
   "cell_type": "code",
   "execution_count": 201,
   "metadata": {},
   "outputs": [
    {
     "data": {
      "text/plain": [
       "0"
      ]
     },
     "execution_count": 201,
     "metadata": {},
     "output_type": "execute_result"
    }
   ],
   "source": [
    "from sklearn.impute import SimpleImputer\n",
    "# Initialize imputer\n",
    "imp = SimpleImputer(strategy='mean')\n",
    "# Apply the imputer on the selected column\n",
    "Epi_data_clean[num_na] = imp.fit_transform(Epi_data_clean[num_na].values.reshape(-1, 1) )\n",
    "\n",
    "Epi_data_clean['AGE'].isna().sum()"
   ]
  },
  {
   "cell_type": "code",
   "execution_count": 202,
   "metadata": {},
   "outputs": [],
   "source": [
    "# Select columns to impute\n",
    "columns_to_impute = ['SEX', 'HIV STATUS', 'RIF', 'INH', 'STM', 'EMB']\n",
    "\n",
    "# Initialize imputer\n",
    "imputer = SimpleImputer(strategy='most_frequent')  \n",
    "\n",
    "# Apply imputation to selected columns\n",
    "Epi_data_clean[columns_to_impute] = imputer.fit_transform(Epi_data_clean[columns_to_impute])"
   ]
  },
  {
   "cell_type": "code",
   "execution_count": 203,
   "metadata": {},
   "outputs": [
    {
     "data": {
      "text/plain": [
       "0"
      ]
     },
     "execution_count": 203,
     "metadata": {},
     "output_type": "execute_result"
    }
   ],
   "source": [
    "\n",
    "Epi_data_clean['RIF'].isna().sum()"
   ]
  },
  {
   "cell_type": "code",
   "execution_count": 204,
   "metadata": {},
   "outputs": [
    {
     "data": {
      "text/html": [
       "<div>\n",
       "<style scoped>\n",
       "    .dataframe tbody tr th:only-of-type {\n",
       "        vertical-align: middle;\n",
       "    }\n",
       "\n",
       "    .dataframe tbody tr th {\n",
       "        vertical-align: top;\n",
       "    }\n",
       "\n",
       "    .dataframe thead th {\n",
       "        text-align: right;\n",
       "    }\n",
       "</style>\n",
       "<table border=\"1\" class=\"dataframe\">\n",
       "  <thead>\n",
       "    <tr style=\"text-align: right;\">\n",
       "      <th></th>\n",
       "      <th>ACCESSION NUMBER</th>\n",
       "      <th>HIV STATUS</th>\n",
       "      <th>AGE</th>\n",
       "      <th>SEX</th>\n",
       "      <th>STM</th>\n",
       "      <th>INH</th>\n",
       "      <th>RIF</th>\n",
       "      <th>EMB</th>\n",
       "      <th>PID</th>\n",
       "    </tr>\n",
       "  </thead>\n",
       "  <tbody>\n",
       "    <tr>\n",
       "      <th>0</th>\n",
       "      <td>ERR038736</td>\n",
       "      <td>0</td>\n",
       "      <td>30.0</td>\n",
       "      <td>0</td>\n",
       "      <td>0.0</td>\n",
       "      <td>1.0</td>\n",
       "      <td>1.0</td>\n",
       "      <td>1.0</td>\n",
       "      <td>A70555</td>\n",
       "    </tr>\n",
       "    <tr>\n",
       "      <th>1</th>\n",
       "      <td>ERR038737</td>\n",
       "      <td>0</td>\n",
       "      <td>23.0</td>\n",
       "      <td>1</td>\n",
       "      <td>0.0</td>\n",
       "      <td>1.0</td>\n",
       "      <td>1.0</td>\n",
       "      <td>0.0</td>\n",
       "      <td>A70582</td>\n",
       "    </tr>\n",
       "    <tr>\n",
       "      <th>2</th>\n",
       "      <td>ERR038738</td>\n",
       "      <td>0</td>\n",
       "      <td>20.0</td>\n",
       "      <td>1</td>\n",
       "      <td>1.0</td>\n",
       "      <td>1.0</td>\n",
       "      <td>1.0</td>\n",
       "      <td>1.0</td>\n",
       "      <td>A70596</td>\n",
       "    </tr>\n",
       "    <tr>\n",
       "      <th>3</th>\n",
       "      <td>ERR038739</td>\n",
       "      <td>0</td>\n",
       "      <td>27.0</td>\n",
       "      <td>1</td>\n",
       "      <td>1.0</td>\n",
       "      <td>1.0</td>\n",
       "      <td>1.0</td>\n",
       "      <td>1.0</td>\n",
       "      <td>A70376</td>\n",
       "    </tr>\n",
       "    <tr>\n",
       "      <th>4</th>\n",
       "      <td>ERR038740</td>\n",
       "      <td>0</td>\n",
       "      <td>48.0</td>\n",
       "      <td>0</td>\n",
       "      <td>0.0</td>\n",
       "      <td>1.0</td>\n",
       "      <td>1.0</td>\n",
       "      <td>1.0</td>\n",
       "      <td>A70088</td>\n",
       "    </tr>\n",
       "  </tbody>\n",
       "</table>\n",
       "</div>"
      ],
      "text/plain": [
       "  ACCESSION NUMBER HIV STATUS   AGE SEX  STM  INH  RIF  EMB     PID\n",
       "0        ERR038736          0  30.0   0  0.0  1.0  1.0  1.0  A70555\n",
       "1        ERR038737          0  23.0   1  0.0  1.0  1.0  0.0  A70582\n",
       "2        ERR038738          0  20.0   1  1.0  1.0  1.0  1.0  A70596\n",
       "3        ERR038739          0  27.0   1  1.0  1.0  1.0  1.0  A70376\n",
       "4        ERR038740          0  48.0   0  0.0  1.0  1.0  1.0  A70088"
      ]
     },
     "execution_count": 204,
     "metadata": {},
     "output_type": "execute_result"
    }
   ],
   "source": [
    "Epi_data_clean.head()"
   ]
  },
  {
   "cell_type": "markdown",
   "metadata": {},
   "source": [
    "Convert the age column to interger from float"
   ]
  },
  {
   "cell_type": "code",
   "execution_count": 205,
   "metadata": {},
   "outputs": [
    {
     "data": {
      "text/html": [
       "<div>\n",
       "<style scoped>\n",
       "    .dataframe tbody tr th:only-of-type {\n",
       "        vertical-align: middle;\n",
       "    }\n",
       "\n",
       "    .dataframe tbody tr th {\n",
       "        vertical-align: top;\n",
       "    }\n",
       "\n",
       "    .dataframe thead th {\n",
       "        text-align: right;\n",
       "    }\n",
       "</style>\n",
       "<table border=\"1\" class=\"dataframe\">\n",
       "  <thead>\n",
       "    <tr style=\"text-align: right;\">\n",
       "      <th></th>\n",
       "      <th>ACCESSION NUMBER</th>\n",
       "      <th>HIV STATUS</th>\n",
       "      <th>AGE</th>\n",
       "      <th>SEX</th>\n",
       "      <th>STM</th>\n",
       "      <th>INH</th>\n",
       "      <th>RIF</th>\n",
       "      <th>EMB</th>\n",
       "      <th>PID</th>\n",
       "    </tr>\n",
       "  </thead>\n",
       "  <tbody>\n",
       "    <tr>\n",
       "      <th>0</th>\n",
       "      <td>ERR038736</td>\n",
       "      <td>0</td>\n",
       "      <td>30</td>\n",
       "      <td>0</td>\n",
       "      <td>0.0</td>\n",
       "      <td>1.0</td>\n",
       "      <td>1.0</td>\n",
       "      <td>1.0</td>\n",
       "      <td>A70555</td>\n",
       "    </tr>\n",
       "    <tr>\n",
       "      <th>1</th>\n",
       "      <td>ERR038737</td>\n",
       "      <td>0</td>\n",
       "      <td>23</td>\n",
       "      <td>1</td>\n",
       "      <td>0.0</td>\n",
       "      <td>1.0</td>\n",
       "      <td>1.0</td>\n",
       "      <td>0.0</td>\n",
       "      <td>A70582</td>\n",
       "    </tr>\n",
       "    <tr>\n",
       "      <th>2</th>\n",
       "      <td>ERR038738</td>\n",
       "      <td>0</td>\n",
       "      <td>20</td>\n",
       "      <td>1</td>\n",
       "      <td>1.0</td>\n",
       "      <td>1.0</td>\n",
       "      <td>1.0</td>\n",
       "      <td>1.0</td>\n",
       "      <td>A70596</td>\n",
       "    </tr>\n",
       "    <tr>\n",
       "      <th>3</th>\n",
       "      <td>ERR038739</td>\n",
       "      <td>0</td>\n",
       "      <td>27</td>\n",
       "      <td>1</td>\n",
       "      <td>1.0</td>\n",
       "      <td>1.0</td>\n",
       "      <td>1.0</td>\n",
       "      <td>1.0</td>\n",
       "      <td>A70376</td>\n",
       "    </tr>\n",
       "    <tr>\n",
       "      <th>4</th>\n",
       "      <td>ERR038740</td>\n",
       "      <td>0</td>\n",
       "      <td>48</td>\n",
       "      <td>0</td>\n",
       "      <td>0.0</td>\n",
       "      <td>1.0</td>\n",
       "      <td>1.0</td>\n",
       "      <td>1.0</td>\n",
       "      <td>A70088</td>\n",
       "    </tr>\n",
       "  </tbody>\n",
       "</table>\n",
       "</div>"
      ],
      "text/plain": [
       "  ACCESSION NUMBER HIV STATUS  AGE SEX  STM  INH  RIF  EMB     PID\n",
       "0        ERR038736          0   30   0  0.0  1.0  1.0  1.0  A70555\n",
       "1        ERR038737          0   23   1  0.0  1.0  1.0  0.0  A70582\n",
       "2        ERR038738          0   20   1  1.0  1.0  1.0  1.0  A70596\n",
       "3        ERR038739          0   27   1  1.0  1.0  1.0  1.0  A70376\n",
       "4        ERR038740          0   48   0  0.0  1.0  1.0  1.0  A70088"
      ]
     },
     "execution_count": 205,
     "metadata": {},
     "output_type": "execute_result"
    }
   ],
   "source": [
    "from math import floor\n",
    "\n",
    "# Convert 'age' column to integer without rounding\n",
    "Epi_data_clean['AGE'] = Epi_data_clean['AGE'].apply(floor).astype(int)\n",
    "Epi_data_clean.head()"
   ]
  },
  {
   "cell_type": "markdown",
   "metadata": {},
   "source": [
    "Removing the decimal places from the categorical columns by converting them to interger then categorical"
   ]
  },
  {
   "cell_type": "code",
   "execution_count": 206,
   "metadata": {},
   "outputs": [
    {
     "data": {
      "text/html": [
       "<div>\n",
       "<style scoped>\n",
       "    .dataframe tbody tr th:only-of-type {\n",
       "        vertical-align: middle;\n",
       "    }\n",
       "\n",
       "    .dataframe tbody tr th {\n",
       "        vertical-align: top;\n",
       "    }\n",
       "\n",
       "    .dataframe thead th {\n",
       "        text-align: right;\n",
       "    }\n",
       "</style>\n",
       "<table border=\"1\" class=\"dataframe\">\n",
       "  <thead>\n",
       "    <tr style=\"text-align: right;\">\n",
       "      <th></th>\n",
       "      <th>ACCESSION NUMBER</th>\n",
       "      <th>HIV STATUS</th>\n",
       "      <th>AGE</th>\n",
       "      <th>SEX</th>\n",
       "      <th>STM</th>\n",
       "      <th>INH</th>\n",
       "      <th>RIF</th>\n",
       "      <th>EMB</th>\n",
       "      <th>PID</th>\n",
       "    </tr>\n",
       "  </thead>\n",
       "  <tbody>\n",
       "    <tr>\n",
       "      <th>0</th>\n",
       "      <td>ERR038736</td>\n",
       "      <td>0</td>\n",
       "      <td>30</td>\n",
       "      <td>0</td>\n",
       "      <td>0</td>\n",
       "      <td>1</td>\n",
       "      <td>1</td>\n",
       "      <td>1</td>\n",
       "      <td>A70555</td>\n",
       "    </tr>\n",
       "    <tr>\n",
       "      <th>1</th>\n",
       "      <td>ERR038737</td>\n",
       "      <td>0</td>\n",
       "      <td>23</td>\n",
       "      <td>1</td>\n",
       "      <td>0</td>\n",
       "      <td>1</td>\n",
       "      <td>1</td>\n",
       "      <td>0</td>\n",
       "      <td>A70582</td>\n",
       "    </tr>\n",
       "    <tr>\n",
       "      <th>2</th>\n",
       "      <td>ERR038738</td>\n",
       "      <td>0</td>\n",
       "      <td>20</td>\n",
       "      <td>1</td>\n",
       "      <td>1</td>\n",
       "      <td>1</td>\n",
       "      <td>1</td>\n",
       "      <td>1</td>\n",
       "      <td>A70596</td>\n",
       "    </tr>\n",
       "    <tr>\n",
       "      <th>3</th>\n",
       "      <td>ERR038739</td>\n",
       "      <td>0</td>\n",
       "      <td>27</td>\n",
       "      <td>1</td>\n",
       "      <td>1</td>\n",
       "      <td>1</td>\n",
       "      <td>1</td>\n",
       "      <td>1</td>\n",
       "      <td>A70376</td>\n",
       "    </tr>\n",
       "    <tr>\n",
       "      <th>4</th>\n",
       "      <td>ERR038740</td>\n",
       "      <td>0</td>\n",
       "      <td>48</td>\n",
       "      <td>0</td>\n",
       "      <td>0</td>\n",
       "      <td>1</td>\n",
       "      <td>1</td>\n",
       "      <td>1</td>\n",
       "      <td>A70088</td>\n",
       "    </tr>\n",
       "  </tbody>\n",
       "</table>\n",
       "</div>"
      ],
      "text/plain": [
       "  ACCESSION NUMBER HIV STATUS  AGE SEX STM INH RIF EMB     PID\n",
       "0        ERR038736          0   30   0   0   1   1   1  A70555\n",
       "1        ERR038737          0   23   1   0   1   1   0  A70582\n",
       "2        ERR038738          0   20   1   1   1   1   1  A70596\n",
       "3        ERR038739          0   27   1   1   1   1   1  A70376\n",
       "4        ERR038740          0   48   0   0   1   1   1  A70088"
      ]
     },
     "execution_count": 206,
     "metadata": {},
     "output_type": "execute_result"
    }
   ],
   "source": [
    "Epi_data_clean['RIF'] = Epi_data_clean['RIF'].astype(int)\n",
    "Epi_data_clean['RIF'] = Epi_data_clean['RIF'].astype('category')\n",
    "Epi_data_clean['INH'] = Epi_data_clean['INH'].astype(int)\n",
    "Epi_data_clean['INH'] = Epi_data_clean['INH'].astype('category')\n",
    "Epi_data_clean['EMB'] = Epi_data_clean['EMB'].astype(int)\n",
    "Epi_data_clean['EMB'] = Epi_data_clean['EMB'].astype('category')\n",
    "Epi_data_clean['STM'] = Epi_data_clean['STM'].astype(int)\n",
    "Epi_data_clean['STM'] = Epi_data_clean['STM'].astype('category')\n",
    "Epi_data_clean.head()"
   ]
  },
  {
   "cell_type": "code",
   "execution_count": 207,
   "metadata": {},
   "outputs": [
    {
     "data": {
      "text/plain": [
       "Sample          object\n",
       "HIV STATUS      object\n",
       "AGE              int32\n",
       "SEX             object\n",
       "STM           category\n",
       "INH           category\n",
       "RIF           category\n",
       "EMB           category\n",
       "PID             object\n",
       "dtype: object"
      ]
     },
     "execution_count": 207,
     "metadata": {},
     "output_type": "execute_result"
    }
   ],
   "source": [
    "Epi_data_clean = Epi_data_clean.rename(columns={Epi_data_clean.columns[0]: 'Sample'})\n",
    "Epi_data_clean.dtypes"
   ]
  },
  {
   "cell_type": "markdown",
   "metadata": {},
   "source": [
    "Saving the complete epidemiological dataset"
   ]
  },
  {
   "cell_type": "code",
   "execution_count": 208,
   "metadata": {},
   "outputs": [],
   "source": [
    "Epi_data_clean.to_csv(\"../../ML_datasets/UG_demographic_dataset_clean&complete.csv\")"
   ]
  },
  {
   "cell_type": "code",
   "execution_count": 209,
   "metadata": {},
   "outputs": [
    {
     "data": {
      "text/plain": [
       "(188, 9)"
      ]
     },
     "execution_count": 209,
     "metadata": {},
     "output_type": "execute_result"
    }
   ],
   "source": [
    "Epi_data_clean.shape"
   ]
  },
  {
   "cell_type": "markdown",
   "metadata": {},
   "source": [
    "Merging the genomic dataset (SNP matrix) and the epidemiological dataset"
   ]
  },
  {
   "cell_type": "code",
   "execution_count": 210,
   "metadata": {},
   "outputs": [
    {
     "data": {
      "text/html": [
       "<div>\n",
       "<style scoped>\n",
       "    .dataframe tbody tr th:only-of-type {\n",
       "        vertical-align: middle;\n",
       "    }\n",
       "\n",
       "    .dataframe tbody tr th {\n",
       "        vertical-align: top;\n",
       "    }\n",
       "\n",
       "    .dataframe thead th {\n",
       "        text-align: right;\n",
       "    }\n",
       "</style>\n",
       "<table border=\"1\" class=\"dataframe\">\n",
       "  <thead>\n",
       "    <tr style=\"text-align: right;\">\n",
       "      <th></th>\n",
       "      <th>:Sample</th>\n",
       "      <th>POS_305</th>\n",
       "      <th>POS_371</th>\n",
       "      <th>POS_412</th>\n",
       "      <th>POS_493</th>\n",
       "      <th>POS_697</th>\n",
       "      <th>POS_845</th>\n",
       "      <th>POS_1150</th>\n",
       "      <th>POS_1228</th>\n",
       "      <th>POS_1353</th>\n",
       "      <th>...</th>\n",
       "      <th>POS_4409794</th>\n",
       "      <th>POS_4409954</th>\n",
       "      <th>POS_4410142</th>\n",
       "      <th>POS_4410178</th>\n",
       "      <th>POS_4410212</th>\n",
       "      <th>POS_4410386</th>\n",
       "      <th>POS_4410765</th>\n",
       "      <th>POS_4411016</th>\n",
       "      <th>POS_4411276</th>\n",
       "      <th>POS_4411400</th>\n",
       "    </tr>\n",
       "  </thead>\n",
       "  <tbody>\n",
       "    <tr>\n",
       "      <th>0</th>\n",
       "      <td>ERR038736</td>\n",
       "      <td>0</td>\n",
       "      <td>0</td>\n",
       "      <td>0</td>\n",
       "      <td>0</td>\n",
       "      <td>0</td>\n",
       "      <td>0</td>\n",
       "      <td>0</td>\n",
       "      <td>0</td>\n",
       "      <td>0</td>\n",
       "      <td>...</td>\n",
       "      <td>0</td>\n",
       "      <td>0</td>\n",
       "      <td>0</td>\n",
       "      <td>0</td>\n",
       "      <td>0</td>\n",
       "      <td>0</td>\n",
       "      <td>0</td>\n",
       "      <td>0</td>\n",
       "      <td>0</td>\n",
       "      <td>0</td>\n",
       "    </tr>\n",
       "    <tr>\n",
       "      <th>1</th>\n",
       "      <td>ERR038737</td>\n",
       "      <td>0</td>\n",
       "      <td>0</td>\n",
       "      <td>0</td>\n",
       "      <td>0</td>\n",
       "      <td>0</td>\n",
       "      <td>0</td>\n",
       "      <td>0</td>\n",
       "      <td>0</td>\n",
       "      <td>0</td>\n",
       "      <td>...</td>\n",
       "      <td>0</td>\n",
       "      <td>0</td>\n",
       "      <td>0</td>\n",
       "      <td>0</td>\n",
       "      <td>0</td>\n",
       "      <td>0</td>\n",
       "      <td>0</td>\n",
       "      <td>0</td>\n",
       "      <td>0</td>\n",
       "      <td>0</td>\n",
       "    </tr>\n",
       "    <tr>\n",
       "      <th>2</th>\n",
       "      <td>ERR038738</td>\n",
       "      <td>0</td>\n",
       "      <td>0</td>\n",
       "      <td>0</td>\n",
       "      <td>0</td>\n",
       "      <td>1</td>\n",
       "      <td>0</td>\n",
       "      <td>0</td>\n",
       "      <td>0</td>\n",
       "      <td>0</td>\n",
       "      <td>...</td>\n",
       "      <td>0</td>\n",
       "      <td>0</td>\n",
       "      <td>0</td>\n",
       "      <td>0</td>\n",
       "      <td>0</td>\n",
       "      <td>0</td>\n",
       "      <td>0</td>\n",
       "      <td>0</td>\n",
       "      <td>0</td>\n",
       "      <td>0</td>\n",
       "    </tr>\n",
       "    <tr>\n",
       "      <th>3</th>\n",
       "      <td>ERR038739</td>\n",
       "      <td>0</td>\n",
       "      <td>0</td>\n",
       "      <td>0</td>\n",
       "      <td>0</td>\n",
       "      <td>0</td>\n",
       "      <td>0</td>\n",
       "      <td>0</td>\n",
       "      <td>0</td>\n",
       "      <td>0</td>\n",
       "      <td>...</td>\n",
       "      <td>0</td>\n",
       "      <td>0</td>\n",
       "      <td>0</td>\n",
       "      <td>0</td>\n",
       "      <td>0</td>\n",
       "      <td>0</td>\n",
       "      <td>0</td>\n",
       "      <td>0</td>\n",
       "      <td>0</td>\n",
       "      <td>0</td>\n",
       "    </tr>\n",
       "    <tr>\n",
       "      <th>4</th>\n",
       "      <td>ERR038740</td>\n",
       "      <td>0</td>\n",
       "      <td>0</td>\n",
       "      <td>0</td>\n",
       "      <td>0</td>\n",
       "      <td>0</td>\n",
       "      <td>0</td>\n",
       "      <td>0</td>\n",
       "      <td>0</td>\n",
       "      <td>0</td>\n",
       "      <td>...</td>\n",
       "      <td>0</td>\n",
       "      <td>0</td>\n",
       "      <td>0</td>\n",
       "      <td>0</td>\n",
       "      <td>0</td>\n",
       "      <td>0</td>\n",
       "      <td>0</td>\n",
       "      <td>0</td>\n",
       "      <td>0</td>\n",
       "      <td>0</td>\n",
       "    </tr>\n",
       "  </tbody>\n",
       "</table>\n",
       "<p>5 rows × 14821 columns</p>\n",
       "</div>"
      ],
      "text/plain": [
       "     :Sample  POS_305  POS_371  POS_412  POS_493  POS_697  POS_845  POS_1150  \\\n",
       "0  ERR038736        0        0        0        0        0        0         0   \n",
       "1  ERR038737        0        0        0        0        0        0         0   \n",
       "2  ERR038738        0        0        0        0        1        0         0   \n",
       "3  ERR038739        0        0        0        0        0        0         0   \n",
       "4  ERR038740        0        0        0        0        0        0         0   \n",
       "\n",
       "   POS_1228  POS_1353  ...  POS_4409794  POS_4409954  POS_4410142  \\\n",
       "0         0         0  ...            0            0            0   \n",
       "1         0         0  ...            0            0            0   \n",
       "2         0         0  ...            0            0            0   \n",
       "3         0         0  ...            0            0            0   \n",
       "4         0         0  ...            0            0            0   \n",
       "\n",
       "   POS_4410178  POS_4410212  POS_4410386  POS_4410765  POS_4411016  \\\n",
       "0            0            0            0            0            0   \n",
       "1            0            0            0            0            0   \n",
       "2            0            0            0            0            0   \n",
       "3            0            0            0            0            0   \n",
       "4            0            0            0            0            0   \n",
       "\n",
       "   POS_4411276  POS_4411400  \n",
       "0            0            0  \n",
       "1            0            0  \n",
       "2            0            0  \n",
       "3            0            0  \n",
       "4            0            0  \n",
       "\n",
       "[5 rows x 14821 columns]"
      ]
     },
     "execution_count": 210,
     "metadata": {},
     "output_type": "execute_result"
    }
   ],
   "source": [
    "snp_matrix = pd.read_csv(\"../../ML_datasets/UG_Edited_Snp_matrix.csv\")\n",
    "snp_matrix.head()"
   ]
  },
  {
   "cell_type": "code",
   "execution_count": 211,
   "metadata": {},
   "outputs": [
    {
     "data": {
      "text/plain": [
       "(188, 14821)"
      ]
     },
     "execution_count": 211,
     "metadata": {},
     "output_type": "execute_result"
    }
   ],
   "source": [
    "snp_matrix.shape # There were 14821 variants obtained in the samples"
   ]
  },
  {
   "cell_type": "markdown",
   "metadata": {},
   "source": [
    "Renaming the column from :Sample to Sample "
   ]
  },
  {
   "cell_type": "code",
   "execution_count": 212,
   "metadata": {},
   "outputs": [],
   "source": [
    "\n",
    "snp_matrix = snp_matrix.rename(columns={snp_matrix.columns[0]: 'Sample'})"
   ]
  },
  {
   "cell_type": "code",
   "execution_count": 213,
   "metadata": {},
   "outputs": [
    {
     "data": {
      "text/html": [
       "<div>\n",
       "<style scoped>\n",
       "    .dataframe tbody tr th:only-of-type {\n",
       "        vertical-align: middle;\n",
       "    }\n",
       "\n",
       "    .dataframe tbody tr th {\n",
       "        vertical-align: top;\n",
       "    }\n",
       "\n",
       "    .dataframe thead th {\n",
       "        text-align: right;\n",
       "    }\n",
       "</style>\n",
       "<table border=\"1\" class=\"dataframe\">\n",
       "  <thead>\n",
       "    <tr style=\"text-align: right;\">\n",
       "      <th></th>\n",
       "      <th>Sample</th>\n",
       "      <th>POS_305</th>\n",
       "      <th>POS_371</th>\n",
       "      <th>POS_412</th>\n",
       "      <th>POS_493</th>\n",
       "      <th>POS_697</th>\n",
       "      <th>POS_845</th>\n",
       "      <th>POS_1150</th>\n",
       "      <th>POS_1228</th>\n",
       "      <th>POS_1353</th>\n",
       "      <th>...</th>\n",
       "      <th>POS_4409794</th>\n",
       "      <th>POS_4409954</th>\n",
       "      <th>POS_4410142</th>\n",
       "      <th>POS_4410178</th>\n",
       "      <th>POS_4410212</th>\n",
       "      <th>POS_4410386</th>\n",
       "      <th>POS_4410765</th>\n",
       "      <th>POS_4411016</th>\n",
       "      <th>POS_4411276</th>\n",
       "      <th>POS_4411400</th>\n",
       "    </tr>\n",
       "  </thead>\n",
       "  <tbody>\n",
       "    <tr>\n",
       "      <th>178</th>\n",
       "      <td>SRR7535084</td>\n",
       "      <td>0</td>\n",
       "      <td>0</td>\n",
       "      <td>0</td>\n",
       "      <td>0</td>\n",
       "      <td>0</td>\n",
       "      <td>0</td>\n",
       "      <td>0</td>\n",
       "      <td>0</td>\n",
       "      <td>0</td>\n",
       "      <td>...</td>\n",
       "      <td>0</td>\n",
       "      <td>0</td>\n",
       "      <td>1</td>\n",
       "      <td>0</td>\n",
       "      <td>0</td>\n",
       "      <td>0</td>\n",
       "      <td>0</td>\n",
       "      <td>0</td>\n",
       "      <td>0</td>\n",
       "      <td>0</td>\n",
       "    </tr>\n",
       "    <tr>\n",
       "      <th>179</th>\n",
       "      <td>SRR7535085</td>\n",
       "      <td>0</td>\n",
       "      <td>0</td>\n",
       "      <td>0</td>\n",
       "      <td>0</td>\n",
       "      <td>0</td>\n",
       "      <td>0</td>\n",
       "      <td>0</td>\n",
       "      <td>0</td>\n",
       "      <td>0</td>\n",
       "      <td>...</td>\n",
       "      <td>0</td>\n",
       "      <td>0</td>\n",
       "      <td>0</td>\n",
       "      <td>0</td>\n",
       "      <td>0</td>\n",
       "      <td>0</td>\n",
       "      <td>0</td>\n",
       "      <td>0</td>\n",
       "      <td>0</td>\n",
       "      <td>0</td>\n",
       "    </tr>\n",
       "    <tr>\n",
       "      <th>180</th>\n",
       "      <td>SRR7535087</td>\n",
       "      <td>0</td>\n",
       "      <td>0</td>\n",
       "      <td>0</td>\n",
       "      <td>0</td>\n",
       "      <td>0</td>\n",
       "      <td>0</td>\n",
       "      <td>0</td>\n",
       "      <td>0</td>\n",
       "      <td>0</td>\n",
       "      <td>...</td>\n",
       "      <td>0</td>\n",
       "      <td>1</td>\n",
       "      <td>0</td>\n",
       "      <td>0</td>\n",
       "      <td>0</td>\n",
       "      <td>0</td>\n",
       "      <td>0</td>\n",
       "      <td>0</td>\n",
       "      <td>0</td>\n",
       "      <td>0</td>\n",
       "    </tr>\n",
       "    <tr>\n",
       "      <th>181</th>\n",
       "      <td>SRR7535088</td>\n",
       "      <td>0</td>\n",
       "      <td>0</td>\n",
       "      <td>0</td>\n",
       "      <td>0</td>\n",
       "      <td>0</td>\n",
       "      <td>0</td>\n",
       "      <td>0</td>\n",
       "      <td>0</td>\n",
       "      <td>0</td>\n",
       "      <td>...</td>\n",
       "      <td>0</td>\n",
       "      <td>0</td>\n",
       "      <td>0</td>\n",
       "      <td>0</td>\n",
       "      <td>0</td>\n",
       "      <td>0</td>\n",
       "      <td>0</td>\n",
       "      <td>0</td>\n",
       "      <td>0</td>\n",
       "      <td>0</td>\n",
       "    </tr>\n",
       "    <tr>\n",
       "      <th>182</th>\n",
       "      <td>SRR7535089</td>\n",
       "      <td>0</td>\n",
       "      <td>0</td>\n",
       "      <td>0</td>\n",
       "      <td>0</td>\n",
       "      <td>0</td>\n",
       "      <td>0</td>\n",
       "      <td>0</td>\n",
       "      <td>0</td>\n",
       "      <td>0</td>\n",
       "      <td>...</td>\n",
       "      <td>0</td>\n",
       "      <td>0</td>\n",
       "      <td>0</td>\n",
       "      <td>0</td>\n",
       "      <td>0</td>\n",
       "      <td>0</td>\n",
       "      <td>0</td>\n",
       "      <td>0</td>\n",
       "      <td>0</td>\n",
       "      <td>0</td>\n",
       "    </tr>\n",
       "    <tr>\n",
       "      <th>183</th>\n",
       "      <td>SRR7535090</td>\n",
       "      <td>0</td>\n",
       "      <td>0</td>\n",
       "      <td>0</td>\n",
       "      <td>0</td>\n",
       "      <td>0</td>\n",
       "      <td>0</td>\n",
       "      <td>0</td>\n",
       "      <td>0</td>\n",
       "      <td>0</td>\n",
       "      <td>...</td>\n",
       "      <td>0</td>\n",
       "      <td>0</td>\n",
       "      <td>0</td>\n",
       "      <td>0</td>\n",
       "      <td>0</td>\n",
       "      <td>0</td>\n",
       "      <td>0</td>\n",
       "      <td>0</td>\n",
       "      <td>0</td>\n",
       "      <td>0</td>\n",
       "    </tr>\n",
       "    <tr>\n",
       "      <th>184</th>\n",
       "      <td>SRR7535091</td>\n",
       "      <td>0</td>\n",
       "      <td>0</td>\n",
       "      <td>0</td>\n",
       "      <td>0</td>\n",
       "      <td>0</td>\n",
       "      <td>0</td>\n",
       "      <td>0</td>\n",
       "      <td>0</td>\n",
       "      <td>0</td>\n",
       "      <td>...</td>\n",
       "      <td>0</td>\n",
       "      <td>0</td>\n",
       "      <td>0</td>\n",
       "      <td>0</td>\n",
       "      <td>0</td>\n",
       "      <td>0</td>\n",
       "      <td>0</td>\n",
       "      <td>0</td>\n",
       "      <td>0</td>\n",
       "      <td>0</td>\n",
       "    </tr>\n",
       "    <tr>\n",
       "      <th>185</th>\n",
       "      <td>SRR7535092</td>\n",
       "      <td>0</td>\n",
       "      <td>0</td>\n",
       "      <td>0</td>\n",
       "      <td>0</td>\n",
       "      <td>0</td>\n",
       "      <td>0</td>\n",
       "      <td>0</td>\n",
       "      <td>0</td>\n",
       "      <td>0</td>\n",
       "      <td>...</td>\n",
       "      <td>0</td>\n",
       "      <td>0</td>\n",
       "      <td>0</td>\n",
       "      <td>0</td>\n",
       "      <td>0</td>\n",
       "      <td>0</td>\n",
       "      <td>0</td>\n",
       "      <td>0</td>\n",
       "      <td>0</td>\n",
       "      <td>0</td>\n",
       "    </tr>\n",
       "    <tr>\n",
       "      <th>186</th>\n",
       "      <td>SRR7535093</td>\n",
       "      <td>0</td>\n",
       "      <td>0</td>\n",
       "      <td>0</td>\n",
       "      <td>0</td>\n",
       "      <td>0</td>\n",
       "      <td>0</td>\n",
       "      <td>0</td>\n",
       "      <td>0</td>\n",
       "      <td>0</td>\n",
       "      <td>...</td>\n",
       "      <td>0</td>\n",
       "      <td>0</td>\n",
       "      <td>0</td>\n",
       "      <td>0</td>\n",
       "      <td>0</td>\n",
       "      <td>0</td>\n",
       "      <td>0</td>\n",
       "      <td>0</td>\n",
       "      <td>0</td>\n",
       "      <td>0</td>\n",
       "    </tr>\n",
       "    <tr>\n",
       "      <th>187</th>\n",
       "      <td>SRR7535094</td>\n",
       "      <td>0</td>\n",
       "      <td>0</td>\n",
       "      <td>0</td>\n",
       "      <td>0</td>\n",
       "      <td>0</td>\n",
       "      <td>0</td>\n",
       "      <td>0</td>\n",
       "      <td>0</td>\n",
       "      <td>0</td>\n",
       "      <td>...</td>\n",
       "      <td>0</td>\n",
       "      <td>0</td>\n",
       "      <td>0</td>\n",
       "      <td>0</td>\n",
       "      <td>0</td>\n",
       "      <td>0</td>\n",
       "      <td>0</td>\n",
       "      <td>0</td>\n",
       "      <td>0</td>\n",
       "      <td>0</td>\n",
       "    </tr>\n",
       "  </tbody>\n",
       "</table>\n",
       "<p>10 rows × 14821 columns</p>\n",
       "</div>"
      ],
      "text/plain": [
       "         Sample  POS_305  POS_371  POS_412  POS_493  POS_697  POS_845  \\\n",
       "178  SRR7535084        0        0        0        0        0        0   \n",
       "179  SRR7535085        0        0        0        0        0        0   \n",
       "180  SRR7535087        0        0        0        0        0        0   \n",
       "181  SRR7535088        0        0        0        0        0        0   \n",
       "182  SRR7535089        0        0        0        0        0        0   \n",
       "183  SRR7535090        0        0        0        0        0        0   \n",
       "184  SRR7535091        0        0        0        0        0        0   \n",
       "185  SRR7535092        0        0        0        0        0        0   \n",
       "186  SRR7535093        0        0        0        0        0        0   \n",
       "187  SRR7535094        0        0        0        0        0        0   \n",
       "\n",
       "     POS_1150  POS_1228  POS_1353  ...  POS_4409794  POS_4409954  POS_4410142  \\\n",
       "178         0         0         0  ...            0            0            1   \n",
       "179         0         0         0  ...            0            0            0   \n",
       "180         0         0         0  ...            0            1            0   \n",
       "181         0         0         0  ...            0            0            0   \n",
       "182         0         0         0  ...            0            0            0   \n",
       "183         0         0         0  ...            0            0            0   \n",
       "184         0         0         0  ...            0            0            0   \n",
       "185         0         0         0  ...            0            0            0   \n",
       "186         0         0         0  ...            0            0            0   \n",
       "187         0         0         0  ...            0            0            0   \n",
       "\n",
       "     POS_4410178  POS_4410212  POS_4410386  POS_4410765  POS_4411016  \\\n",
       "178            0            0            0            0            0   \n",
       "179            0            0            0            0            0   \n",
       "180            0            0            0            0            0   \n",
       "181            0            0            0            0            0   \n",
       "182            0            0            0            0            0   \n",
       "183            0            0            0            0            0   \n",
       "184            0            0            0            0            0   \n",
       "185            0            0            0            0            0   \n",
       "186            0            0            0            0            0   \n",
       "187            0            0            0            0            0   \n",
       "\n",
       "     POS_4411276  POS_4411400  \n",
       "178            0            0  \n",
       "179            0            0  \n",
       "180            0            0  \n",
       "181            0            0  \n",
       "182            0            0  \n",
       "183            0            0  \n",
       "184            0            0  \n",
       "185            0            0  \n",
       "186            0            0  \n",
       "187            0            0  \n",
       "\n",
       "[10 rows x 14821 columns]"
      ]
     },
     "execution_count": 213,
     "metadata": {},
     "output_type": "execute_result"
    }
   ],
   "source": [
    "snp_matrix.tail(n=10)"
   ]
  },
  {
   "cell_type": "code",
   "execution_count": 214,
   "metadata": {},
   "outputs": [],
   "source": [
    "# Converting columns to categorical\n",
    "# Get a list of column names (excluding 'Sample')\n",
    "columns_to_convert = [col for col in snp_matrix.columns if col != 'ACCESSION NUMBER']\n",
    "\n",
    "# Convert selected columns to categorical\n",
    "for col in columns_to_convert:\n",
    "    snp_matrix[col] = snp_matrix[col].astype('category')\n",
    "\n"
   ]
  },
  {
   "cell_type": "code",
   "execution_count": 215,
   "metadata": {},
   "outputs": [
    {
     "data": {
      "text/plain": [
       "Sample         category\n",
       "POS_305        category\n",
       "POS_371        category\n",
       "POS_412        category\n",
       "POS_493        category\n",
       "                 ...   \n",
       "POS_4410386    category\n",
       "POS_4410765    category\n",
       "POS_4411016    category\n",
       "POS_4411276    category\n",
       "POS_4411400    category\n",
       "Length: 14821, dtype: object"
      ]
     },
     "execution_count": 215,
     "metadata": {},
     "output_type": "execute_result"
    }
   ],
   "source": [
    "snp_matrix.dtypes"
   ]
  },
  {
   "cell_type": "markdown",
   "metadata": {},
   "source": [
    "Merging the dataset having epidemiological variables with the SNP matrix dataset"
   ]
  },
  {
   "cell_type": "code",
   "execution_count": 216,
   "metadata": {},
   "outputs": [],
   "source": [
    "\n",
    "merged_data = pd.merge(Epi_data_clean, snp_matrix, on='Sample', how='inner')"
   ]
  },
  {
   "cell_type": "code",
   "execution_count": 217,
   "metadata": {},
   "outputs": [
    {
     "data": {
      "text/plain": [
       "Sample           object\n",
       "HIV STATUS       object\n",
       "AGE               int32\n",
       "SEX              object\n",
       "STM            category\n",
       "                 ...   \n",
       "POS_4410386    category\n",
       "POS_4410765    category\n",
       "POS_4411016    category\n",
       "POS_4411276    category\n",
       "POS_4411400    category\n",
       "Length: 14829, dtype: object"
      ]
     },
     "execution_count": 217,
     "metadata": {},
     "output_type": "execute_result"
    }
   ],
   "source": [
    "merged_data.dtypes"
   ]
  },
  {
   "cell_type": "code",
   "execution_count": 218,
   "metadata": {},
   "outputs": [],
   "source": [
    "# Converting columns to catergorical\n",
    "columns_to_convert = ['SEX', 'HIV STATUS', 'RIF', 'INH', 'EMB', 'STM']\n",
    "\n",
    "merged_data[columns_to_convert] = merged_data[columns_to_convert].astype('category')\n"
   ]
  },
  {
   "cell_type": "code",
   "execution_count": 219,
   "metadata": {},
   "outputs": [
    {
     "data": {
      "text/html": [
       "<div>\n",
       "<style scoped>\n",
       "    .dataframe tbody tr th:only-of-type {\n",
       "        vertical-align: middle;\n",
       "    }\n",
       "\n",
       "    .dataframe tbody tr th {\n",
       "        vertical-align: top;\n",
       "    }\n",
       "\n",
       "    .dataframe thead th {\n",
       "        text-align: right;\n",
       "    }\n",
       "</style>\n",
       "<table border=\"1\" class=\"dataframe\">\n",
       "  <thead>\n",
       "    <tr style=\"text-align: right;\">\n",
       "      <th></th>\n",
       "      <th>Sample</th>\n",
       "      <th>HIV STATUS</th>\n",
       "      <th>AGE</th>\n",
       "      <th>SEX</th>\n",
       "      <th>STM</th>\n",
       "      <th>INH</th>\n",
       "      <th>RIF</th>\n",
       "      <th>EMB</th>\n",
       "      <th>PID</th>\n",
       "      <th>POS_305</th>\n",
       "      <th>...</th>\n",
       "      <th>POS_4409794</th>\n",
       "      <th>POS_4409954</th>\n",
       "      <th>POS_4410142</th>\n",
       "      <th>POS_4410178</th>\n",
       "      <th>POS_4410212</th>\n",
       "      <th>POS_4410386</th>\n",
       "      <th>POS_4410765</th>\n",
       "      <th>POS_4411016</th>\n",
       "      <th>POS_4411276</th>\n",
       "      <th>POS_4411400</th>\n",
       "    </tr>\n",
       "  </thead>\n",
       "  <tbody>\n",
       "    <tr>\n",
       "      <th>0</th>\n",
       "      <td>ERR038736</td>\n",
       "      <td>0</td>\n",
       "      <td>30</td>\n",
       "      <td>0</td>\n",
       "      <td>0</td>\n",
       "      <td>1</td>\n",
       "      <td>1</td>\n",
       "      <td>1</td>\n",
       "      <td>A70555</td>\n",
       "      <td>0</td>\n",
       "      <td>...</td>\n",
       "      <td>0</td>\n",
       "      <td>0</td>\n",
       "      <td>0</td>\n",
       "      <td>0</td>\n",
       "      <td>0</td>\n",
       "      <td>0</td>\n",
       "      <td>0</td>\n",
       "      <td>0</td>\n",
       "      <td>0</td>\n",
       "      <td>0</td>\n",
       "    </tr>\n",
       "    <tr>\n",
       "      <th>1</th>\n",
       "      <td>ERR038737</td>\n",
       "      <td>0</td>\n",
       "      <td>23</td>\n",
       "      <td>1</td>\n",
       "      <td>0</td>\n",
       "      <td>1</td>\n",
       "      <td>1</td>\n",
       "      <td>0</td>\n",
       "      <td>A70582</td>\n",
       "      <td>0</td>\n",
       "      <td>...</td>\n",
       "      <td>0</td>\n",
       "      <td>0</td>\n",
       "      <td>0</td>\n",
       "      <td>0</td>\n",
       "      <td>0</td>\n",
       "      <td>0</td>\n",
       "      <td>0</td>\n",
       "      <td>0</td>\n",
       "      <td>0</td>\n",
       "      <td>0</td>\n",
       "    </tr>\n",
       "    <tr>\n",
       "      <th>2</th>\n",
       "      <td>ERR038738</td>\n",
       "      <td>0</td>\n",
       "      <td>20</td>\n",
       "      <td>1</td>\n",
       "      <td>1</td>\n",
       "      <td>1</td>\n",
       "      <td>1</td>\n",
       "      <td>1</td>\n",
       "      <td>A70596</td>\n",
       "      <td>0</td>\n",
       "      <td>...</td>\n",
       "      <td>0</td>\n",
       "      <td>0</td>\n",
       "      <td>0</td>\n",
       "      <td>0</td>\n",
       "      <td>0</td>\n",
       "      <td>0</td>\n",
       "      <td>0</td>\n",
       "      <td>0</td>\n",
       "      <td>0</td>\n",
       "      <td>0</td>\n",
       "    </tr>\n",
       "    <tr>\n",
       "      <th>3</th>\n",
       "      <td>ERR038739</td>\n",
       "      <td>0</td>\n",
       "      <td>27</td>\n",
       "      <td>1</td>\n",
       "      <td>1</td>\n",
       "      <td>1</td>\n",
       "      <td>1</td>\n",
       "      <td>1</td>\n",
       "      <td>A70376</td>\n",
       "      <td>0</td>\n",
       "      <td>...</td>\n",
       "      <td>0</td>\n",
       "      <td>0</td>\n",
       "      <td>0</td>\n",
       "      <td>0</td>\n",
       "      <td>0</td>\n",
       "      <td>0</td>\n",
       "      <td>0</td>\n",
       "      <td>0</td>\n",
       "      <td>0</td>\n",
       "      <td>0</td>\n",
       "    </tr>\n",
       "    <tr>\n",
       "      <th>4</th>\n",
       "      <td>ERR038740</td>\n",
       "      <td>0</td>\n",
       "      <td>48</td>\n",
       "      <td>0</td>\n",
       "      <td>0</td>\n",
       "      <td>1</td>\n",
       "      <td>1</td>\n",
       "      <td>1</td>\n",
       "      <td>A70088</td>\n",
       "      <td>0</td>\n",
       "      <td>...</td>\n",
       "      <td>0</td>\n",
       "      <td>0</td>\n",
       "      <td>0</td>\n",
       "      <td>0</td>\n",
       "      <td>0</td>\n",
       "      <td>0</td>\n",
       "      <td>0</td>\n",
       "      <td>0</td>\n",
       "      <td>0</td>\n",
       "      <td>0</td>\n",
       "    </tr>\n",
       "  </tbody>\n",
       "</table>\n",
       "<p>5 rows × 14829 columns</p>\n",
       "</div>"
      ],
      "text/plain": [
       "      Sample HIV STATUS  AGE SEX STM INH RIF EMB     PID POS_305  ...  \\\n",
       "0  ERR038736          0   30   0   0   1   1   1  A70555       0  ...   \n",
       "1  ERR038737          0   23   1   0   1   1   0  A70582       0  ...   \n",
       "2  ERR038738          0   20   1   1   1   1   1  A70596       0  ...   \n",
       "3  ERR038739          0   27   1   1   1   1   1  A70376       0  ...   \n",
       "4  ERR038740          0   48   0   0   1   1   1  A70088       0  ...   \n",
       "\n",
       "  POS_4409794 POS_4409954 POS_4410142 POS_4410178 POS_4410212 POS_4410386  \\\n",
       "0           0           0           0           0           0           0   \n",
       "1           0           0           0           0           0           0   \n",
       "2           0           0           0           0           0           0   \n",
       "3           0           0           0           0           0           0   \n",
       "4           0           0           0           0           0           0   \n",
       "\n",
       "  POS_4410765 POS_4411016 POS_4411276 POS_4411400  \n",
       "0           0           0           0           0  \n",
       "1           0           0           0           0  \n",
       "2           0           0           0           0  \n",
       "3           0           0           0           0  \n",
       "4           0           0           0           0  \n",
       "\n",
       "[5 rows x 14829 columns]"
      ]
     },
     "execution_count": 219,
     "metadata": {},
     "output_type": "execute_result"
    }
   ],
   "source": [
    "merged_data.head()"
   ]
  },
  {
   "cell_type": "code",
   "execution_count": 220,
   "metadata": {},
   "outputs": [
    {
     "data": {
      "text/plain": [
       "(188, 14829)"
      ]
     },
     "execution_count": 220,
     "metadata": {},
     "output_type": "execute_result"
    }
   ],
   "source": [
    "merged_data.shape"
   ]
  },
  {
   "cell_type": "markdown",
   "metadata": {},
   "source": [
    "Find samples in snp_matrix dataframe  that are not in Epi_data_clean dataframe and vice verser such that we dont miss an samples during the merging."
   ]
  },
  {
   "cell_type": "code",
   "execution_count": 221,
   "metadata": {},
   "outputs": [
    {
     "data": {
      "text/plain": [
       "Series([], Name: Sample, dtype: category\n",
       "Categories (188, object): ['ERR038736', 'ERR038737', 'ERR038738', 'ERR038739', ..., 'SRR7535091', 'SRR7535092', 'SRR7535093', 'SRR7535094'])"
      ]
     },
     "execution_count": 221,
     "metadata": {},
     "output_type": "execute_result"
    }
   ],
   "source": [
    "# Find samples in DataFrame A that are not in DataFrame B\n",
    "samples_only_in_snp_matrix = snp_matrix[~snp_matrix['Sample'].isin(Epi_data_clean['Sample'])]['Sample']\n",
    "samples_only_in_snp_matrix.head()\n"
   ]
  },
  {
   "cell_type": "code",
   "execution_count": 222,
   "metadata": {},
   "outputs": [
    {
     "data": {
      "text/plain": [
       "Series([], Name: Sample, dtype: object)"
      ]
     },
     "execution_count": 222,
     "metadata": {},
     "output_type": "execute_result"
    }
   ],
   "source": [
    "samples_only_in_Epi_data = Epi_data_clean[~Epi_data_clean['Sample'].isin(snp_matrix['Sample'])]['Sample']\n",
    "samples_only_in_Epi_data.head()"
   ]
  },
  {
   "cell_type": "code",
   "execution_count": 225,
   "metadata": {},
   "outputs": [],
   "source": [
    "merged_data.to_csv(\"../../ML_datasets/ML_UG_dataset.csv\")"
   ]
  }
 ],
 "metadata": {
  "kernelspec": {
   "display_name": "Python 3 (ipykernel)",
   "language": "python",
   "name": "python3"
  },
  "language_info": {
   "codemirror_mode": {
    "name": "ipython",
    "version": 3
   },
   "file_extension": ".py",
   "mimetype": "text/x-python",
   "name": "python",
   "nbconvert_exporter": "python",
   "pygments_lexer": "ipython3",
   "version": "3.11.8"
  }
 },
 "nbformat": 4,
 "nbformat_minor": 4
}
